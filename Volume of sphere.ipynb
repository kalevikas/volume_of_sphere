{
 "cells": [
  {
   "cell_type": "raw",
   "id": "7ff0dbb4",
   "metadata": {},
   "source": [
    "# Write a program to calculate Volume of sphere.\n",
    "- Formula :- \n",
    "              v=(4/3)*pi*r**3"
   ]
  },
  {
   "cell_type": "code",
   "execution_count": 1,
   "id": "1a637734",
   "metadata": {},
   "outputs": [
    {
     "ename": "NameError",
     "evalue": "name 'math' is not defined",
     "output_type": "error",
     "traceback": [
      "\u001b[1;31m---------------------------------------------------------------------------\u001b[0m",
      "\u001b[1;31mNameError\u001b[0m                                 Traceback (most recent call last)",
      "\u001b[1;32m<ipython-input-1-d121256e9997>\u001b[0m in \u001b[0;36m<module>\u001b[1;34m\u001b[0m\n\u001b[1;32m----> 1\u001b[1;33m \u001b[0mprint\u001b[0m\u001b[1;33m(\u001b[0m\u001b[0mdir\u001b[0m\u001b[1;33m(\u001b[0m\u001b[0mmath\u001b[0m\u001b[1;33m)\u001b[0m\u001b[1;33m)\u001b[0m\u001b[1;33m\u001b[0m\u001b[1;33m\u001b[0m\u001b[0m\n\u001b[0m",
      "\u001b[1;31mNameError\u001b[0m: name 'math' is not defined"
     ]
    }
   ],
   "source": [
    "print(dir(math))    # before importing math module."
   ]
  },
  {
   "cell_type": "code",
   "execution_count": 2,
   "id": "a21623e9",
   "metadata": {},
   "outputs": [],
   "source": [
    "import math    # Import math module to get function pi"
   ]
  },
  {
   "cell_type": "code",
   "execution_count": 3,
   "id": "46c3b0ce",
   "metadata": {},
   "outputs": [
    {
     "name": "stdout",
     "output_type": "stream",
     "text": [
      "['__doc__', '__loader__', '__name__', '__package__', '__spec__', 'acos', 'acosh', 'asin', 'asinh', 'atan', 'atan2', 'atanh', 'ceil', 'comb', 'copysign', 'cos', 'cosh', 'degrees', 'dist', 'e', 'erf', 'erfc', 'exp', 'expm1', 'fabs', 'factorial', 'floor', 'fmod', 'frexp', 'fsum', 'gamma', 'gcd', 'hypot', 'inf', 'isclose', 'isfinite', 'isinf', 'isnan', 'isqrt', 'ldexp', 'lgamma', 'log', 'log10', 'log1p', 'log2', 'modf', 'nan', 'perm', 'pi', 'pow', 'prod', 'radians', 'remainder', 'sin', 'sinh', 'sqrt', 'tan', 'tanh', 'tau', 'trunc']\n"
     ]
    }
   ],
   "source": [
    "print(dir(math))"
   ]
  },
  {
   "cell_type": "code",
   "execution_count": 5,
   "id": "c6e1f225",
   "metadata": {},
   "outputs": [
    {
     "name": "stdout",
     "output_type": "stream",
     "text": [
      "['In', 'Out', '_', '__', '___', '__builtin__', '__builtins__', '__doc__', '__loader__', '__name__', '__package__', '__spec__', '_dh', '_i', '_i1', '_i2', '_i3', '_i4', '_i5', '_ih', '_ii', '_iii', '_oh', 'exit', 'get_ipython', 'math', 'quit']\n"
     ]
    }
   ],
   "source": [
    "print(dir())  # Built-in directory functions."
   ]
  },
  {
   "cell_type": "code",
   "execution_count": 7,
   "id": "208107eb",
   "metadata": {},
   "outputs": [
    {
     "data": {
      "text/plain": [
       "3.141592653589793"
      ]
     },
     "execution_count": 7,
     "metadata": {},
     "output_type": "execute_result"
    }
   ],
   "source": [
    "math.pi"
   ]
  },
  {
   "cell_type": "code",
   "execution_count": 8,
   "id": "e258a213",
   "metadata": {},
   "outputs": [],
   "source": [
    "def volume(r):  # Define function volume with parameter or argument r.  r means radius of sphere.\n",
    "    \"\"\"\n",
    "    Return the volume of sphere with radius.\n",
    "    \"\"\"\n",
    "    v=(4.0/3.0)*math.pi*r**3    # formula\n",
    "    \n",
    "    return v              # Whenever function call return v as a output.\n"
   ]
  },
  {
   "cell_type": "code",
   "execution_count": 9,
   "id": "cae6f72e",
   "metadata": {},
   "outputs": [
    {
     "data": {
      "text/plain": [
       "33.510321638291124"
      ]
     },
     "execution_count": 9,
     "metadata": {},
     "output_type": "execute_result"
    }
   ],
   "source": [
    "volume(2)       # volume of sphere with radius 2."
   ]
  },
  {
   "cell_type": "code",
   "execution_count": 10,
   "id": "114e2c68",
   "metadata": {},
   "outputs": [
    {
     "data": {
      "text/plain": [
       "523.5987755982989"
      ]
     },
     "execution_count": 10,
     "metadata": {},
     "output_type": "execute_result"
    }
   ],
   "source": [
    "volume(5)"
   ]
  },
  {
   "cell_type": "code",
   "execution_count": 11,
   "id": "891e8ace",
   "metadata": {},
   "outputs": [
    {
     "name": "stdout",
     "output_type": "stream",
     "text": [
      "Help on function volume in module __main__:\n",
      "\n",
      "volume(r)\n",
      "    Return the volume of sphere with radius.\n",
      "\n"
     ]
    }
   ],
   "source": [
    "help(volume)     # display documentation string."
   ]
  },
  {
   "cell_type": "code",
   "execution_count": 12,
   "id": "e3ecb73f",
   "metadata": {},
   "outputs": [
    {
     "name": "stdout",
     "output_type": "stream",
     "text": [
      "['In', 'Out', '_', '_10', '_7', '_9', '__', '___', '__builtin__', '__builtins__', '__doc__', '__loader__', '__name__', '__package__', '__spec__', '_dh', '_i', '_i1', '_i10', '_i11', '_i12', '_i2', '_i3', '_i4', '_i5', '_i6', '_i7', '_i8', '_i9', '_ih', '_ii', '_iii', '_oh', 'exit', 'get_ipython', 'math', 'quit', 'volume']\n"
     ]
    }
   ],
   "source": [
    "print(dir())     # volume function get listed in directory."
   ]
  },
  {
   "cell_type": "code",
   "execution_count": null,
   "id": "ee3a980c",
   "metadata": {},
   "outputs": [],
   "source": []
  }
 ],
 "metadata": {
  "kernelspec": {
   "display_name": "Python 3",
   "language": "python",
   "name": "python3"
  },
  "language_info": {
   "codemirror_mode": {
    "name": "ipython",
    "version": 3
   },
   "file_extension": ".py",
   "mimetype": "text/x-python",
   "name": "python",
   "nbconvert_exporter": "python",
   "pygments_lexer": "ipython3",
   "version": "3.8.8"
  }
 },
 "nbformat": 4,
 "nbformat_minor": 5
}
